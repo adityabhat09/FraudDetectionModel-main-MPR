{
 "cells": [
  {
   "cell_type": "markdown",
   "id": "8f8810b8",
   "metadata": {
    "papermill": {
     "duration": 0.005528,
     "end_time": "2025-04-15T12:25:11.545812",
     "exception": false,
     "start_time": "2025-04-15T12:25:11.540284",
     "status": "completed"
    },
    "tags": []
   },
   "source": [
    "# Fraud Detection: Random Forest Classification"
   ]
  },
  {
   "cell_type": "markdown",
   "id": "4b209f54",
   "metadata": {
    "papermill": {
     "duration": 0.004235,
     "end_time": "2025-04-15T12:25:11.555285",
     "exception": false,
     "start_time": "2025-04-15T12:25:11.551050",
     "status": "completed"
    },
    "tags": []
   },
   "source": [
    "<br>\n",
    "\n",
    "## 1. Introduction\n",
    "\n",
    "The purpose of this model is to classify whether or not a transaction is fraudulent. Fraudulent data is determined by the distance the transaction was made from the persons home; distance from last purchase; average purchase total; and if the person used a card, chip, pin or made the purchase at a repeat retailer.\n",
    "\n",
    "The model employs RandomForest Classification to make these predictions. Random Forest Classification is a machine learning algorithm that uses an ensemble of decision trees to make predictions, particularly for classification tasks. It combines the predictions of multiple, uncorrelated decision trees to improve accuracy and robustness. \n",
    "\n",
    "To test the final model, execute `streamlit run app.py`. You can also run it via the deployed model [here](https://frauddetectionmodel-w3qpeqizcs98mbhnwbez7x.streamlit.app)."
   ]
  },
  {
   "cell_type": "markdown",
   "id": "1366e3d8",
   "metadata": {
    "papermill": {
     "duration": 0.004114,
     "end_time": "2025-04-15T12:25:11.566108",
     "exception": false,
     "start_time": "2025-04-15T12:25:11.561994",
     "status": "completed"
    },
    "tags": []
   },
   "source": [
    "<br>\n",
    "\n",
    "## 2. Data Overview\n",
    "\n",
    "### Data Acquisition\n",
    "\n",
    "The original data aqcuired from Kaggle can be accessed through the link provided below:\n",
    "- [Download Data](https://www.kaggle.com/datasets/dhanushnarayananr/credit-card-fraud)\n",
    "\n",
    "### Key Features of the Dataset\n",
    "\n",
    "- **distance_from_home** - the distance from home where the transaction happened.\n",
    "\n",
    "- **distance_from_last_transaction** - the distance from last transaction happened.\n",
    "\n",
    "- **ratio_to_median_purchase_price** - Ratio of purchased price transaction to median purchase price.\n",
    "\n",
    "- **repeat_retailer** - Is the transaction happened from same retailer.\n",
    "\n",
    "- **used_chip** - Is the transaction through chip (credit card).\n",
    "\n",
    "- **used_pin_number** - Is the transaction happened by using PIN number.\n",
    "\n",
    "- **online_order** - Is the transaction an online order.\n",
    "\n",
    "- **fraud** - Is the transaction fraudulent."
   ]
  },
  {
   "cell_type": "markdown",
   "id": "3ff6434e",
   "metadata": {
    "papermill": {
     "duration": 0.004088,
     "end_time": "2025-04-15T12:25:11.574547",
     "exception": false,
     "start_time": "2025-04-15T12:25:11.570459",
     "status": "completed"
    },
    "tags": []
   },
   "source": [
    "<br>\n",
    "\n",
    "## 3. Initial Data Exploration\n",
    "\n",
    "In this section, the necessary libraries and datasets needed for analysis will be imported and initialized.\n",
    "\n",
    "The following libraries are used:\n",
    "\n",
    "- Library `pandas` will be required to work with data in tabular representation.\n",
    "\n",
    "- Library `numpy` will be required to round the numerical data.\n",
    "\n",
    "- Library `matplotlib`, `seaborn` will be required for data visualization.\n",
    "\n",
    "- Library `sklearn` will be used to train the model.\n",
    "\n",
    "- Library `joblit` will be used to export the model for deployment."
   ]
  },
  {
   "cell_type": "code",
   "execution_count": 1,
   "id": "5bc258bc",
   "metadata": {
    "execution": {
     "iopub.execute_input": "2025-04-15T12:25:11.584413Z",
     "iopub.status.busy": "2025-04-15T12:25:11.583797Z",
     "iopub.status.idle": "2025-04-15T12:25:15.354050Z",
     "shell.execute_reply": "2025-04-15T12:25:15.353451Z"
    },
    "papermill": {
     "duration": 3.776547,
     "end_time": "2025-04-15T12:25:15.355479",
     "exception": false,
     "start_time": "2025-04-15T12:25:11.578932",
     "status": "completed"
    },
    "tags": []
   },
   "outputs": [],
   "source": [
    "# Libraries\n",
    "import pandas as pd \n",
    "import matplotlib.pyplot as plt\n",
    "import seaborn as sns\n",
    "from sklearn.model_selection import train_test_split\n",
    "from sklearn.metrics import precision_score, recall_score, accuracy_score\n",
    "from sklearn.ensemble import RandomForestClassifier\n",
    "import joblib\n",
    "import warnings\n",
    "%matplotlib inline\n",
    "\n",
    "# Settings\n",
    "sns.set_theme(style=\"darkgrid\")\n",
    "pd.set_option('display.max_rows', 10)\n",
    "\n",
    "# Set up logging\n",
    "warnings.filterwarnings(\"ignore\", category=RuntimeWarning)\n",
    "warnings.filterwarnings(\"ignore\", category=FutureWarning)\n",
    "warnings.filterwarnings(\"ignore\", category=UserWarning)\n",
    "warnings.filterwarnings(\"ignore\", category=DeprecationWarning)"
   ]
  },
  {
   "cell_type": "code",
   "execution_count": 2,
   "id": "e9ef1d2a",
   "metadata": {
    "execution": {
     "iopub.execute_input": "2025-04-15T12:25:15.365699Z",
     "iopub.status.busy": "2025-04-15T12:25:15.365381Z",
     "iopub.status.idle": "2025-04-15T12:25:16.893452Z",
     "shell.execute_reply": "2025-04-15T12:25:16.892456Z"
    },
    "papermill": {
     "duration": 1.534508,
     "end_time": "2025-04-15T12:25:16.894748",
     "exception": false,
     "start_time": "2025-04-15T12:25:15.360240",
     "status": "completed"
    },
    "tags": []
   },
   "outputs": [
    {
     "name": "stdout",
     "output_type": "stream",
     "text": [
      "The data contains 1000000 records and 8 columns.\n",
      "\n",
      "The data contains the following data types: \n",
      "float64    8\n",
      "Name: count, dtype: int64\n"
     ]
    },
    {
     "data": {
      "text/html": [
       "<div>\n",
       "<style scoped>\n",
       "    .dataframe tbody tr th:only-of-type {\n",
       "        vertical-align: middle;\n",
       "    }\n",
       "\n",
       "    .dataframe tbody tr th {\n",
       "        vertical-align: top;\n",
       "    }\n",
       "\n",
       "    .dataframe thead th {\n",
       "        text-align: right;\n",
       "    }\n",
       "</style>\n",
       "<table border=\"1\" class=\"dataframe\">\n",
       "  <thead>\n",
       "    <tr style=\"text-align: right;\">\n",
       "      <th></th>\n",
       "      <th>distance_from_home</th>\n",
       "      <th>distance_from_last_transaction</th>\n",
       "      <th>ratio_to_median_purchase_price</th>\n",
       "      <th>repeat_retailer</th>\n",
       "      <th>used_chip</th>\n",
       "      <th>used_pin_number</th>\n",
       "      <th>online_order</th>\n",
       "      <th>fraud</th>\n",
       "    </tr>\n",
       "  </thead>\n",
       "  <tbody>\n",
       "    <tr>\n",
       "      <th>0</th>\n",
       "      <td>57.877857</td>\n",
       "      <td>0.311140</td>\n",
       "      <td>1.945940</td>\n",
       "      <td>1.0</td>\n",
       "      <td>1.0</td>\n",
       "      <td>0.0</td>\n",
       "      <td>0.0</td>\n",
       "      <td>0.0</td>\n",
       "    </tr>\n",
       "    <tr>\n",
       "      <th>1</th>\n",
       "      <td>10.829943</td>\n",
       "      <td>0.175592</td>\n",
       "      <td>1.294219</td>\n",
       "      <td>1.0</td>\n",
       "      <td>0.0</td>\n",
       "      <td>0.0</td>\n",
       "      <td>0.0</td>\n",
       "      <td>0.0</td>\n",
       "    </tr>\n",
       "    <tr>\n",
       "      <th>2</th>\n",
       "      <td>5.091079</td>\n",
       "      <td>0.805153</td>\n",
       "      <td>0.427715</td>\n",
       "      <td>1.0</td>\n",
       "      <td>0.0</td>\n",
       "      <td>0.0</td>\n",
       "      <td>1.0</td>\n",
       "      <td>0.0</td>\n",
       "    </tr>\n",
       "    <tr>\n",
       "      <th>3</th>\n",
       "      <td>2.247564</td>\n",
       "      <td>5.600044</td>\n",
       "      <td>0.362663</td>\n",
       "      <td>1.0</td>\n",
       "      <td>1.0</td>\n",
       "      <td>0.0</td>\n",
       "      <td>1.0</td>\n",
       "      <td>0.0</td>\n",
       "    </tr>\n",
       "    <tr>\n",
       "      <th>4</th>\n",
       "      <td>44.190936</td>\n",
       "      <td>0.566486</td>\n",
       "      <td>2.222767</td>\n",
       "      <td>1.0</td>\n",
       "      <td>1.0</td>\n",
       "      <td>0.0</td>\n",
       "      <td>1.0</td>\n",
       "      <td>0.0</td>\n",
       "    </tr>\n",
       "  </tbody>\n",
       "</table>\n",
       "</div>"
      ],
      "text/plain": [
       "   distance_from_home  distance_from_last_transaction  \\\n",
       "0           57.877857                        0.311140   \n",
       "1           10.829943                        0.175592   \n",
       "2            5.091079                        0.805153   \n",
       "3            2.247564                        5.600044   \n",
       "4           44.190936                        0.566486   \n",
       "\n",
       "   ratio_to_median_purchase_price  repeat_retailer  used_chip  \\\n",
       "0                        1.945940              1.0        1.0   \n",
       "1                        1.294219              1.0        0.0   \n",
       "2                        0.427715              1.0        0.0   \n",
       "3                        0.362663              1.0        1.0   \n",
       "4                        2.222767              1.0        1.0   \n",
       "\n",
       "   used_pin_number  online_order  fraud  \n",
       "0              0.0           0.0    0.0  \n",
       "1              0.0           0.0    0.0  \n",
       "2              0.0           1.0    0.0  \n",
       "3              0.0           1.0    0.0  \n",
       "4              0.0           1.0    0.0  "
      ]
     },
     "execution_count": 2,
     "metadata": {},
     "output_type": "execute_result"
    }
   ],
   "source": [
    "# Import data and save it as DataFrame\n",
    "data_df = pd.read_csv('/kaggle/input/credit-card-fraud/card_transdata.csv')\n",
    "\n",
    "# Dimensions of the data\n",
    "print(f'The data contains {data_df.shape[0]} records and {data_df.shape[1]} columns.')\n",
    "\n",
    "# Datatypes of the data\n",
    "print(f'\\nThe data contains the following data types: \\n{data_df.dtypes.value_counts()}')\n",
    "\n",
    "# Display driver data\n",
    "data_df.head()"
   ]
  },
  {
   "cell_type": "code",
   "execution_count": 3,
   "id": "e98c08a5",
   "metadata": {
    "execution": {
     "iopub.execute_input": "2025-04-15T12:25:16.906012Z",
     "iopub.status.busy": "2025-04-15T12:25:16.905771Z",
     "iopub.status.idle": "2025-04-15T12:25:16.938997Z",
     "shell.execute_reply": "2025-04-15T12:25:16.938426Z"
    },
    "papermill": {
     "duration": 0.039992,
     "end_time": "2025-04-15T12:25:16.940133",
     "exception": false,
     "start_time": "2025-04-15T12:25:16.900141",
     "status": "completed"
    },
    "tags": []
   },
   "outputs": [
    {
     "data": {
      "text/html": [
       "<div>\n",
       "<style scoped>\n",
       "    .dataframe tbody tr th:only-of-type {\n",
       "        vertical-align: middle;\n",
       "    }\n",
       "\n",
       "    .dataframe tbody tr th {\n",
       "        vertical-align: top;\n",
       "    }\n",
       "\n",
       "    .dataframe thead th {\n",
       "        text-align: right;\n",
       "    }\n",
       "</style>\n",
       "<table border=\"1\" class=\"dataframe\">\n",
       "  <thead>\n",
       "    <tr style=\"text-align: right;\">\n",
       "      <th></th>\n",
       "      <th>distance_from_home</th>\n",
       "      <th>distance_from_last_transaction</th>\n",
       "      <th>ratio_to_median_purchase_price</th>\n",
       "      <th>repeat_retailer</th>\n",
       "      <th>used_chip</th>\n",
       "      <th>used_pin_number</th>\n",
       "      <th>online_order</th>\n",
       "      <th>labels</th>\n",
       "    </tr>\n",
       "  </thead>\n",
       "  <tbody>\n",
       "    <tr>\n",
       "      <th>0</th>\n",
       "      <td>57.877857</td>\n",
       "      <td>0.31114</td>\n",
       "      <td>1.94594</td>\n",
       "      <td>1.0</td>\n",
       "      <td>1.0</td>\n",
       "      <td>0.0</td>\n",
       "      <td>0.0</td>\n",
       "      <td>0.0</td>\n",
       "    </tr>\n",
       "  </tbody>\n",
       "</table>\n",
       "</div>"
      ],
      "text/plain": [
       "   distance_from_home  distance_from_last_transaction  \\\n",
       "0           57.877857                         0.31114   \n",
       "\n",
       "   ratio_to_median_purchase_price  repeat_retailer  used_chip  \\\n",
       "0                         1.94594              1.0        1.0   \n",
       "\n",
       "   used_pin_number  online_order  labels  \n",
       "0              0.0           0.0     0.0  "
      ]
     },
     "execution_count": 3,
     "metadata": {},
     "output_type": "execute_result"
    }
   ],
   "source": [
    "# Rename target variable\n",
    "data_copy = data_df.copy()\n",
    "data_copy.rename({'fraud': 'labels'}, axis=1, inplace=True)\n",
    "data_copy.head(1)"
   ]
  },
  {
   "cell_type": "markdown",
   "id": "58373b49",
   "metadata": {
    "papermill": {
     "duration": 0.004488,
     "end_time": "2025-04-15T12:25:16.949469",
     "exception": false,
     "start_time": "2025-04-15T12:25:16.944981",
     "status": "completed"
    },
    "tags": []
   },
   "source": [
    "<br>\n",
    "\n",
    "## 4. Data Cleaning and Preprocessing\n",
    "\n",
    "In this section, data pre-processing will be conducted by examining data types, addressing missing values, removing duplicates, analyzing measures of central tendency, and extracting features."
   ]
  },
  {
   "cell_type": "markdown",
   "id": "c74c6119",
   "metadata": {
    "papermill": {
     "duration": 0.004407,
     "end_time": "2025-04-15T12:25:16.958675",
     "exception": false,
     "start_time": "2025-04-15T12:25:16.954268",
     "status": "completed"
    },
    "tags": []
   },
   "source": [
    "### 4.1 Missing Data"
   ]
  },
  {
   "cell_type": "code",
   "execution_count": 4,
   "id": "c49a5f7d",
   "metadata": {
    "execution": {
     "iopub.execute_input": "2025-04-15T12:25:16.968632Z",
     "iopub.status.busy": "2025-04-15T12:25:16.968411Z",
     "iopub.status.idle": "2025-04-15T12:25:17.004132Z",
     "shell.execute_reply": "2025-04-15T12:25:17.003624Z"
    },
    "papermill": {
     "duration": 0.042,
     "end_time": "2025-04-15T12:25:17.005295",
     "exception": false,
     "start_time": "2025-04-15T12:25:16.963295",
     "status": "completed"
    },
    "tags": []
   },
   "outputs": [
    {
     "data": {
      "text/plain": [
       "distance_from_home                0\n",
       "distance_from_last_transaction    0\n",
       "ratio_to_median_purchase_price    0\n",
       "repeat_retailer                   0\n",
       "used_chip                         0\n",
       "used_pin_number                   0\n",
       "online_order                      0\n",
       "labels                            0\n",
       "dtype: int64"
      ]
     },
     "execution_count": 4,
     "metadata": {},
     "output_type": "execute_result"
    }
   ],
   "source": [
    "# Missing values\n",
    "data_copy.isnull().sum()"
   ]
  },
  {
   "cell_type": "markdown",
   "id": "858bf682",
   "metadata": {
    "papermill": {
     "duration": 0.005323,
     "end_time": "2025-04-15T12:25:17.016531",
     "exception": false,
     "start_time": "2025-04-15T12:25:17.011208",
     "status": "completed"
    },
    "tags": []
   },
   "source": [
    "**CONCLUSION:**\n",
    "\n",
    "The dataset contains no missing values, so no additional modifications are needed."
   ]
  },
  {
   "cell_type": "markdown",
   "id": "bd88d93a",
   "metadata": {
    "papermill": {
     "duration": 0.004666,
     "end_time": "2025-04-15T12:25:17.026084",
     "exception": false,
     "start_time": "2025-04-15T12:25:17.021418",
     "status": "completed"
    },
    "tags": []
   },
   "source": [
    "### 4.2 Duplicate Data"
   ]
  },
  {
   "cell_type": "code",
   "execution_count": 5,
   "id": "644f31fb",
   "metadata": {
    "execution": {
     "iopub.execute_input": "2025-04-15T12:25:17.036822Z",
     "iopub.status.busy": "2025-04-15T12:25:17.036232Z",
     "iopub.status.idle": "2025-04-15T12:25:17.400535Z",
     "shell.execute_reply": "2025-04-15T12:25:17.399726Z"
    },
    "papermill": {
     "duration": 0.370975,
     "end_time": "2025-04-15T12:25:17.401785",
     "exception": false,
     "start_time": "2025-04-15T12:25:17.030810",
     "status": "completed"
    },
    "tags": []
   },
   "outputs": [
    {
     "data": {
      "text/plain": [
       "0"
      ]
     },
     "execution_count": 5,
     "metadata": {},
     "output_type": "execute_result"
    }
   ],
   "source": [
    "# Duplicate data\n",
    "data_copy.duplicated().any().sum()"
   ]
  },
  {
   "cell_type": "markdown",
   "id": "cc3ed7b8",
   "metadata": {
    "papermill": {
     "duration": 0.004725,
     "end_time": "2025-04-15T12:25:17.411915",
     "exception": false,
     "start_time": "2025-04-15T12:25:17.407190",
     "status": "completed"
    },
    "tags": []
   },
   "source": [
    "**CONCLUSION:** \n",
    "\n",
    "Only valid duplicates exist. Therefore, no further data transformation is necessary."
   ]
  },
  {
   "cell_type": "markdown",
   "id": "c041cfc9",
   "metadata": {
    "papermill": {
     "duration": 0.004603,
     "end_time": "2025-04-15T12:25:17.421336",
     "exception": false,
     "start_time": "2025-04-15T12:25:17.416733",
     "status": "completed"
    },
    "tags": []
   },
   "source": [
    "### 4.3 Transformation"
   ]
  },
  {
   "cell_type": "code",
   "execution_count": 6,
   "id": "5f9838f7",
   "metadata": {
    "execution": {
     "iopub.execute_input": "2025-04-15T12:25:17.431862Z",
     "iopub.status.busy": "2025-04-15T12:25:17.431634Z",
     "iopub.status.idle": "2025-04-15T12:25:17.477180Z",
     "shell.execute_reply": "2025-04-15T12:25:17.476354Z"
    },
    "papermill": {
     "duration": 0.052163,
     "end_time": "2025-04-15T12:25:17.478382",
     "exception": false,
     "start_time": "2025-04-15T12:25:17.426219",
     "status": "completed"
    },
    "tags": []
   },
   "outputs": [
    {
     "name": "stdout",
     "output_type": "stream",
     "text": [
      "<class 'pandas.core.frame.DataFrame'>\n",
      "RangeIndex: 1000000 entries, 0 to 999999\n",
      "Data columns (total 8 columns):\n",
      " #   Column                          Non-Null Count    Dtype  \n",
      "---  ------                          --------------    -----  \n",
      " 0   distance_from_home              1000000 non-null  float64\n",
      " 1   distance_from_last_transaction  1000000 non-null  float64\n",
      " 2   ratio_to_median_purchase_price  1000000 non-null  float64\n",
      " 3   repeat_retailer                 1000000 non-null  float64\n",
      " 4   used_chip                       1000000 non-null  float64\n",
      " 5   used_pin_number                 1000000 non-null  float64\n",
      " 6   online_order                    1000000 non-null  float64\n",
      " 7   labels                          1000000 non-null  float64\n",
      "dtypes: float64(8)\n",
      "memory usage: 61.0 MB\n"
     ]
    }
   ],
   "source": [
    "# Data types\n",
    "data_copy.info()"
   ]
  },
  {
   "cell_type": "markdown",
   "id": "1741de8c",
   "metadata": {
    "papermill": {
     "duration": 0.004986,
     "end_time": "2025-04-15T12:25:17.489815",
     "exception": false,
     "start_time": "2025-04-15T12:25:17.484829",
     "status": "completed"
    },
    "tags": []
   },
   "source": [
    "**CONCLUSION:** \n",
    "\n",
    "All data are in the correct types and formats; therefore, no further data transformation is needed."
   ]
  },
  {
   "cell_type": "markdown",
   "id": "cbe93016",
   "metadata": {
    "papermill": {
     "duration": 0.004667,
     "end_time": "2025-04-15T12:25:17.499416",
     "exception": false,
     "start_time": "2025-04-15T12:25:17.494749",
     "status": "completed"
    },
    "tags": []
   },
   "source": [
    "### 4.5 Outliers\n",
    "\n",
    "Outliers can distort and mislead the analysis process, resulting in inaccurate predictions and insights. Therefore, addressing outliers is essential when preparing data for analysis or machine learning models. \n",
    "\n",
    "Generating summary statistics is a quick and effective way to assess whether a dataset contains outliers."
   ]
  },
  {
   "cell_type": "code",
   "execution_count": 7,
   "id": "66542cf9",
   "metadata": {
    "execution": {
     "iopub.execute_input": "2025-04-15T12:25:17.509960Z",
     "iopub.status.busy": "2025-04-15T12:25:17.509705Z",
     "iopub.status.idle": "2025-04-15T12:25:18.222529Z",
     "shell.execute_reply": "2025-04-15T12:25:18.221531Z"
    },
    "papermill": {
     "duration": 0.720301,
     "end_time": "2025-04-15T12:25:18.224569",
     "exception": false,
     "start_time": "2025-04-15T12:25:17.504268",
     "status": "completed"
    },
    "tags": []
   },
   "outputs": [
    {
     "name": "stdout",
     "output_type": "stream",
     "text": [
      "Columndistance_from_home\n",
      "distance_from_home\n",
      "0.378282      1\n",
      "337.291331    1\n",
      "7.529871      1\n",
      "45.039345     1\n",
      "9.423156      1\n",
      "             ..\n",
      "2.247564      1\n",
      "44.190936     1\n",
      "5.586408      1\n",
      "3.724019      1\n",
      "4.848247      1\n",
      "Name: count, Length: 1000000, dtype: int64 \n",
      "\n",
      "Columndistance_from_last_transaction\n",
      "distance_from_last_transaction\n",
      "1.886087     1\n",
      "4.606990     1\n",
      "1.600637     1\n",
      "1.882768     1\n",
      "1.267983     1\n",
      "            ..\n",
      "5.600044     1\n",
      "0.566486     1\n",
      "13.261073    1\n",
      "0.956838     1\n",
      "0.320735     1\n",
      "Name: count, Length: 1000000, dtype: int64 \n",
      "\n",
      "Columnratio_to_median_purchase_price\n",
      "ratio_to_median_purchase_price\n",
      "0.193085    1\n",
      "0.181799    1\n",
      "0.284105    1\n",
      "1.845791    1\n",
      "0.934793    1\n",
      "           ..\n",
      "0.362663    1\n",
      "2.222767    1\n",
      "0.064768    1\n",
      "0.278465    1\n",
      "1.273050    1\n",
      "Name: count, Length: 1000000, dtype: int64 \n",
      "\n",
      "Columnrepeat_retailer\n",
      "repeat_retailer\n",
      "1.0    881536\n",
      "0.0    118464\n",
      "Name: count, dtype: int64 \n",
      "\n",
      "Columnused_chip\n",
      "used_chip\n",
      "0.0    649601\n",
      "1.0    350399\n",
      "Name: count, dtype: int64 \n",
      "\n",
      "Columnused_pin_number\n",
      "used_pin_number\n",
      "0.0    899392\n",
      "1.0    100608\n",
      "Name: count, dtype: int64 \n",
      "\n",
      "Columnonline_order\n",
      "online_order\n",
      "1.0    650552\n",
      "0.0    349448\n",
      "Name: count, dtype: int64 \n",
      "\n",
      "Columnlabels\n",
      "labels\n",
      "0.0    912597\n",
      "1.0     87403\n",
      "Name: count, dtype: int64 \n",
      "\n"
     ]
    }
   ],
   "source": [
    "# Frequency analysis\n",
    "for col in data_copy:\n",
    "    print(f'Column{col}')\n",
    "    print(data_copy[col].value_counts(), '\\n')"
   ]
  },
  {
   "cell_type": "code",
   "execution_count": 8,
   "id": "8cf2f525",
   "metadata": {
    "execution": {
     "iopub.execute_input": "2025-04-15T12:25:18.242877Z",
     "iopub.status.busy": "2025-04-15T12:25:18.242097Z",
     "iopub.status.idle": "2025-04-15T12:25:18.564499Z",
     "shell.execute_reply": "2025-04-15T12:25:18.563777Z"
    },
    "papermill": {
     "duration": 0.330776,
     "end_time": "2025-04-15T12:25:18.565744",
     "exception": false,
     "start_time": "2025-04-15T12:25:18.234968",
     "status": "completed"
    },
    "tags": []
   },
   "outputs": [
    {
     "data": {
      "text/html": [
       "<div>\n",
       "<style scoped>\n",
       "    .dataframe tbody tr th:only-of-type {\n",
       "        vertical-align: middle;\n",
       "    }\n",
       "\n",
       "    .dataframe tbody tr th {\n",
       "        vertical-align: top;\n",
       "    }\n",
       "\n",
       "    .dataframe thead th {\n",
       "        text-align: right;\n",
       "    }\n",
       "</style>\n",
       "<table border=\"1\" class=\"dataframe\">\n",
       "  <thead>\n",
       "    <tr style=\"text-align: right;\">\n",
       "      <th></th>\n",
       "      <th>distance_from_home</th>\n",
       "      <th>distance_from_last_transaction</th>\n",
       "      <th>ratio_to_median_purchase_price</th>\n",
       "      <th>repeat_retailer</th>\n",
       "      <th>used_chip</th>\n",
       "      <th>used_pin_number</th>\n",
       "      <th>online_order</th>\n",
       "      <th>labels</th>\n",
       "    </tr>\n",
       "  </thead>\n",
       "  <tbody>\n",
       "    <tr>\n",
       "      <th>count</th>\n",
       "      <td>1000000.000000</td>\n",
       "      <td>1000000.000000</td>\n",
       "      <td>1000000.000000</td>\n",
       "      <td>1000000.000000</td>\n",
       "      <td>1000000.000000</td>\n",
       "      <td>1000000.000000</td>\n",
       "      <td>1000000.000000</td>\n",
       "      <td>1000000.000000</td>\n",
       "    </tr>\n",
       "    <tr>\n",
       "      <th>mean</th>\n",
       "      <td>26.628792</td>\n",
       "      <td>5.036519</td>\n",
       "      <td>1.824182</td>\n",
       "      <td>0.881536</td>\n",
       "      <td>0.350399</td>\n",
       "      <td>0.100608</td>\n",
       "      <td>0.650552</td>\n",
       "      <td>0.087403</td>\n",
       "    </tr>\n",
       "    <tr>\n",
       "      <th>std</th>\n",
       "      <td>65.390784</td>\n",
       "      <td>25.843093</td>\n",
       "      <td>2.799589</td>\n",
       "      <td>0.323157</td>\n",
       "      <td>0.477095</td>\n",
       "      <td>0.300809</td>\n",
       "      <td>0.476796</td>\n",
       "      <td>0.282425</td>\n",
       "    </tr>\n",
       "    <tr>\n",
       "      <th>min</th>\n",
       "      <td>0.004874</td>\n",
       "      <td>0.000118</td>\n",
       "      <td>0.004399</td>\n",
       "      <td>0.000000</td>\n",
       "      <td>0.000000</td>\n",
       "      <td>0.000000</td>\n",
       "      <td>0.000000</td>\n",
       "      <td>0.000000</td>\n",
       "    </tr>\n",
       "    <tr>\n",
       "      <th>25%</th>\n",
       "      <td>3.878008</td>\n",
       "      <td>0.296671</td>\n",
       "      <td>0.475673</td>\n",
       "      <td>1.000000</td>\n",
       "      <td>0.000000</td>\n",
       "      <td>0.000000</td>\n",
       "      <td>0.000000</td>\n",
       "      <td>0.000000</td>\n",
       "    </tr>\n",
       "    <tr>\n",
       "      <th>50%</th>\n",
       "      <td>9.967760</td>\n",
       "      <td>0.998650</td>\n",
       "      <td>0.997717</td>\n",
       "      <td>1.000000</td>\n",
       "      <td>0.000000</td>\n",
       "      <td>0.000000</td>\n",
       "      <td>1.000000</td>\n",
       "      <td>0.000000</td>\n",
       "    </tr>\n",
       "    <tr>\n",
       "      <th>75%</th>\n",
       "      <td>25.743985</td>\n",
       "      <td>3.355748</td>\n",
       "      <td>2.096370</td>\n",
       "      <td>1.000000</td>\n",
       "      <td>1.000000</td>\n",
       "      <td>0.000000</td>\n",
       "      <td>1.000000</td>\n",
       "      <td>0.000000</td>\n",
       "    </tr>\n",
       "    <tr>\n",
       "      <th>max</th>\n",
       "      <td>10632.723672</td>\n",
       "      <td>11851.104565</td>\n",
       "      <td>267.802942</td>\n",
       "      <td>1.000000</td>\n",
       "      <td>1.000000</td>\n",
       "      <td>1.000000</td>\n",
       "      <td>1.000000</td>\n",
       "      <td>1.000000</td>\n",
       "    </tr>\n",
       "  </tbody>\n",
       "</table>\n",
       "</div>"
      ],
      "text/plain": [
       "       distance_from_home  distance_from_last_transaction  \\\n",
       "count      1000000.000000                  1000000.000000   \n",
       "mean            26.628792                        5.036519   \n",
       "std             65.390784                       25.843093   \n",
       "min              0.004874                        0.000118   \n",
       "25%              3.878008                        0.296671   \n",
       "50%              9.967760                        0.998650   \n",
       "75%             25.743985                        3.355748   \n",
       "max          10632.723672                    11851.104565   \n",
       "\n",
       "       ratio_to_median_purchase_price  repeat_retailer       used_chip  \\\n",
       "count                  1000000.000000   1000000.000000  1000000.000000   \n",
       "mean                         1.824182         0.881536        0.350399   \n",
       "std                          2.799589         0.323157        0.477095   \n",
       "min                          0.004399         0.000000        0.000000   \n",
       "25%                          0.475673         1.000000        0.000000   \n",
       "50%                          0.997717         1.000000        0.000000   \n",
       "75%                          2.096370         1.000000        1.000000   \n",
       "max                        267.802942         1.000000        1.000000   \n",
       "\n",
       "       used_pin_number    online_order          labels  \n",
       "count   1000000.000000  1000000.000000  1000000.000000  \n",
       "mean          0.100608        0.650552        0.087403  \n",
       "std           0.300809        0.476796        0.282425  \n",
       "min           0.000000        0.000000        0.000000  \n",
       "25%           0.000000        0.000000        0.000000  \n",
       "50%           0.000000        1.000000        0.000000  \n",
       "75%           0.000000        1.000000        0.000000  \n",
       "max           1.000000        1.000000        1.000000  "
      ]
     },
     "execution_count": 8,
     "metadata": {},
     "output_type": "execute_result"
    }
   ],
   "source": [
    "# Summary statistics\n",
    "data_copy.describe()"
   ]
  },
  {
   "cell_type": "code",
   "execution_count": 9,
   "id": "ea47710e",
   "metadata": {
    "execution": {
     "iopub.execute_input": "2025-04-15T12:25:18.579680Z",
     "iopub.status.busy": "2025-04-15T12:25:18.579096Z",
     "iopub.status.idle": "2025-04-15T12:25:20.370876Z",
     "shell.execute_reply": "2025-04-15T12:25:20.370148Z"
    },
    "papermill": {
     "duration": 1.800254,
     "end_time": "2025-04-15T12:25:20.372282",
     "exception": false,
     "start_time": "2025-04-15T12:25:18.572028",
     "status": "completed"
    },
    "tags": []
   },
   "outputs": [
    {
     "data": {
      "image/png": "[encoded data removed]",
      "text/plain": [
       "<Figure size 1200x600 with 1 Axes>"
      ]
     },
     "metadata": {},
     "output_type": "display_data"
    }
   ],
   "source": [
    "# Visualize with a box plot\n",
    "plt.figure(figsize=(12, 6))\n",
    "sns.boxplot(data=data_copy)\n",
    "plt.title('Box Plot of Data Outliers', pad=20)\n",
    "plt.xticks(rotation=90)\n",
    "plt.xlabel('Outliers', labelpad=20)\n",
    "plt.show()"
   ]
  },
  {
   "cell_type": "markdown",
   "id": "b09b88dc",
   "metadata": {
    "papermill": {
     "duration": 0.006046,
     "end_time": "2025-04-15T12:25:20.384709",
     "exception": false,
     "start_time": "2025-04-15T12:25:20.378663",
     "status": "completed"
    },
    "tags": []
   },
   "source": [
    "**CONCLUSION:**\n",
    "\n",
    "Upon examining the distributions above, it is evident that there are a few distinct outliers. This means that data scaling and outlier removal is necessary, which will be performed after splitting our data for training. \n",
    "\n",
    "Data scaling will be essential to normalize the wide range of values across features, particularly for the distance measurements and ratio variables that span multiple orders of magnitude. Outlier removal will be implemented to create a cleaner training dataset that focuses on typical transaction patterns.\n",
    "\n",
    "Critically, all preprocessing steps will be performed after splitting the data into training and testing sets. This sequencing is fundamental for avoiding data leakage, where information from the test set inadvertently influences model training."
   ]
  },
  {
   "cell_type": "markdown",
   "id": "5c2bf13c",
   "metadata": {
    "papermill": {
     "duration": 0.005801,
     "end_time": "2025-04-15T12:25:20.396437",
     "exception": false,
     "start_time": "2025-04-15T12:25:20.390636",
     "status": "completed"
    },
    "tags": []
   },
   "source": [
    "<br>\n",
    "\n",
    "## 5. Exploratory Data Analysis\n",
    "\n",
    "In this section, we explore the dataset to understand the relationships, correlations, and distribution of key features."
   ]
  },
  {
   "cell_type": "code",
   "execution_count": 10,
   "id": "da18a319",
   "metadata": {
    "execution": {
     "iopub.execute_input": "2025-04-15T12:25:20.409494Z",
     "iopub.status.busy": "2025-04-15T12:25:20.408913Z",
     "iopub.status.idle": "2025-04-15T12:25:20.611918Z",
     "shell.execute_reply": "2025-04-15T12:25:20.611250Z"
    },
    "papermill": {
     "duration": 0.210737,
     "end_time": "2025-04-15T12:25:20.613112",
     "exception": false,
     "start_time": "2025-04-15T12:25:20.402375",
     "status": "completed"
    },
    "tags": []
   },
   "outputs": [
    {
     "name": "stdout",
     "output_type": "stream",
     "text": [
      "labels\n",
      "0.0    912597\n",
      "1.0     87403\n",
      "Name: count, dtype: int64\n",
      "labels\n",
      "0.0    91.2597\n",
      "1.0     8.7403\n",
      "Name: count, dtype: float64\n"
     ]
    },
    {
     "data": {
      "image/png": "[encoded data removed]",
      "text/plain": [
       "<Figure size 1200x600 with 1 Axes>"
      ]
     },
     "metadata": {},
     "output_type": "display_data"
    }
   ],
   "source": [
    "# Distribution plot to check target balance\n",
    "target_counts = data_copy['labels'].value_counts()\n",
    "print(target_counts)\n",
    "print(target_counts / len(data_copy) * 100) \n",
    "plt.figure(figsize=(12,6))\n",
    "target_counts.plot(kind='bar', color=['skyblue', 'orange'])\n",
    "plt.title('Label Distribution', pad=20)\n",
    "plt.xlabel('Label', labelpad=20)\n",
    "plt.ylabel('Count', labelpad=20)\n",
    "plt.show()"
   ]
  },
  {
   "cell_type": "code",
   "execution_count": 11,
   "id": "b3291ed9",
   "metadata": {
    "execution": {
     "iopub.execute_input": "2025-04-15T12:25:20.628818Z",
     "iopub.status.busy": "2025-04-15T12:25:20.628615Z",
     "iopub.status.idle": "2025-04-15T12:25:21.262984Z",
     "shell.execute_reply": "2025-04-15T12:25:21.262202Z"
    },
    "papermill": {
     "duration": 0.644356,
     "end_time": "2025-04-15T12:25:21.265201",
     "exception": false,
     "start_time": "2025-04-15T12:25:20.620845",
     "status": "completed"
    },
    "tags": []
   },
   "outputs": [
    {
     "data": {
      "image/png": "[encoded data removed]",
      "text/plain": [
       "<Figure size 1000x800 with 2 Axes>"
      ]
     },
     "metadata": {},
     "output_type": "display_data"
    }
   ],
   "source": [
    "# Correlation matrix to explore relationships\n",
    "correlation_matrix = data_copy.select_dtypes(include=['int', 'float']).corr()\n",
    "plt.figure(figsize=(10, 8))\n",
    "sns.heatmap(correlation_matrix, annot=True, fmt=\".2f\", cmap=\"coolwarm\", vmin=-1, vmax=1)\n",
    "plt.title(\"Correlation Heatmap\", fontsize=16, pad=20)\n",
    "plt.show()"
   ]
  },
  {
   "cell_type": "markdown",
   "id": "e3af9a1c",
   "metadata": {
    "papermill": {
     "duration": 0.007796,
     "end_time": "2025-04-15T12:25:21.281551",
     "exception": false,
     "start_time": "2025-04-15T12:25:21.273755",
     "status": "completed"
    },
    "tags": []
   },
   "source": [
    "**CONCLUSION:**\n",
    "\n",
    "- From the distribution, 91.3% of transactions are non-fraudulent while only 8.7% are fraudulent accurately describes a significant class imbalance. This imbalance is typical in fraud detection scenarios. We can apply SMOTE and use class balancing on our model to weight classes proportional to their frequency, effectively penalizing misclassification of the minority class.\n",
    "\n",
    "- There are limited linear correlations between features in the dataset. The most significant positive correlation with fraudulent transactions is observed in `ratio_to_median_purchase_price` (0.47), indicating that unusually high purchase amounts relative to a customer's typical spending pattern are associated with fraud. Secondary positive correlations exist between `online_order`/`distance_from_home` (0.19) and fraud, suggesting that transactions occurring far from a customer's residence and conducted online carry elevated risk.\n",
    "\n",
    "- Features that have lower linear correlations, such as `repeat_retailer`, `used_chip`, and `used_pin_number` indicate using chips, pins, or being a repeat customer leads to lower levels of fraud.\n",
    "\n",
    "- Despite modest correlation coefficients, retaining all features is recommended as machine learning algorithms can identify sophisticated, non-linear patterns and feature interactions that traditional correlation analysis cannot detect."
   ]
  },
  {
   "cell_type": "markdown",
   "id": "11a96cb5",
   "metadata": {
    "papermill": {
     "duration": 0.007477,
     "end_time": "2025-04-15T12:25:21.296678",
     "exception": false,
     "start_time": "2025-04-15T12:25:21.289201",
     "status": "completed"
    },
    "tags": []
   },
   "source": [
    "<br>\n",
    "\n",
    "## 6. Model Training & Evaluation\n",
    "\n",
    "In this section, we will train the model using the provided data, enabling it to make precise and informed predictions based on the patterns and insights derived from the dataset. "
   ]
  },
  {
   "cell_type": "markdown",
   "id": "608515f6",
   "metadata": {
    "papermill": {
     "duration": 0.007614,
     "end_time": "2025-04-15T12:25:21.353108",
     "exception": false,
     "start_time": "2025-04-15T12:25:21.345494",
     "status": "completed"
    },
    "tags": []
   },
   "source": [
    "### 6.1 Feature Extraction"
   ]
  },
  {
   "cell_type": "code",
   "execution_count": 12,
   "id": "f7150ec6",
   "metadata": {
    "execution": {
     "iopub.execute_input": "2025-04-15T12:25:21.369637Z",
     "iopub.status.busy": "2025-04-15T12:25:21.369392Z",
     "iopub.status.idle": "2025-04-15T12:25:21.891946Z",
     "shell.execute_reply": "2025-04-15T12:25:21.891319Z"
    },
    "papermill": {
     "duration": 0.532651,
     "end_time": "2025-04-15T12:25:21.893401",
     "exception": false,
     "start_time": "2025-04-15T12:25:21.360750",
     "status": "completed"
    },
    "tags": []
   },
   "outputs": [],
   "source": [
    "# Shuffle data\n",
    "data_copy.sample(frac=1, random_state=42)\n",
    "\n",
    "# Set features and target\n",
    "X = data_copy.drop(columns=['labels']) \n",
    "y = data_copy['labels']\n",
    "\n",
    "# Split data\n",
    "X_train, X_test, y_train, y_test = train_test_split(\n",
    "    X, y, test_size=0.2, stratify=y, random_state=42\n",
    ")"
   ]
  },
  {
   "cell_type": "markdown",
   "id": "d246cd0c",
   "metadata": {
    "papermill": {
     "duration": 0.008106,
     "end_time": "2025-04-15T12:25:21.909835",
     "exception": false,
     "start_time": "2025-04-15T12:25:21.901729",
     "status": "completed"
    },
    "tags": []
   },
   "source": [
    "### 6.2 Training Data Preprocessing"
   ]
  },
  {
   "cell_type": "code",
   "execution_count": 13,
   "id": "17373d30",
   "metadata": {
    "execution": {
     "iopub.execute_input": "2025-04-15T12:25:21.926875Z",
     "iopub.status.busy": "2025-04-15T12:25:21.926621Z",
     "iopub.status.idle": "2025-04-15T12:25:22.033538Z",
     "shell.execute_reply": "2025-04-15T12:25:22.032924Z"
    },
    "papermill": {
     "duration": 0.116633,
     "end_time": "2025-04-15T12:25:22.034844",
     "exception": false,
     "start_time": "2025-04-15T12:25:21.918211",
     "status": "completed"
    },
    "tags": []
   },
   "outputs": [],
   "source": [
    "# Remove outliers from training data\n",
    "def remove_outliers(X_train, y_train, cols):\n",
    "    Q1 = X_train[cols].quantile(0.25)\n",
    "    Q3 = X_train[cols].quantile(0.75)\n",
    "    IQR = Q3 - Q1\n",
    "    lower = Q1 - 1.5 * IQR\n",
    "    upper = Q3 + 1.5 * IQR\n",
    "    mask = ~((X_train[cols] < lower) | (X_train[cols] > upper)).any(axis=1)\n",
    "    return X_train[mask], y_train[mask]\n",
    "\n",
    "# Apply\n",
    "cols_to_filter = ['distance_from_home', 'distance_from_last_transaction']\n",
    "X_train_clean, y_train_clean = remove_outliers(X_train, y_train, cols_to_filter)"
   ]
  },
  {
   "cell_type": "markdown",
   "id": "798f61f0",
   "metadata": {
    "papermill": {
     "duration": 0.007675,
     "end_time": "2025-04-15T12:25:22.051324",
     "exception": false,
     "start_time": "2025-04-15T12:25:22.043649",
     "status": "completed"
    },
    "tags": []
   },
   "source": [
    "### BEFORE YOU CONTINUE:\n",
    "\n",
    "I don't know what's wrong with imblearn on Kaggle, since no update/downgrade gets it to work. Please refer to the original notebook on my [GitHub repository](https://github.com/christinec-dev/Data-Projects/tree/main/Machine%20Learning/Fraud_Detection_Model) for the actual results and methods used."
   ]
  },
  {
   "cell_type": "code",
   "execution_count": 14,
   "id": "2b1b0497",
   "metadata": {
    "execution": {
     "iopub.execute_input": "2025-04-15T12:25:22.067871Z",
     "iopub.status.busy": "2025-04-15T12:25:22.067644Z",
     "iopub.status.idle": "2025-04-15T12:25:22.070837Z",
     "shell.execute_reply": "2025-04-15T12:25:22.070164Z"
    },
    "papermill": {
     "duration": 0.012947,
     "end_time": "2025-04-15T12:25:22.071953",
     "exception": false,
     "start_time": "2025-04-15T12:25:22.059006",
     "status": "completed"
    },
    "tags": []
   },
   "outputs": [],
   "source": [
    "# Apply SMOTE to training data\n",
    "# from imblearn.over_sampling import SMOTE\n",
    "# smote = SMOTE(random_state=42)\n",
    "# X_train_res, y_train_res = smote.fit_resample(X_train_clean, y_train_clean)"
   ]
  },
  {
   "cell_type": "markdown",
   "id": "0ce4b5f1",
   "metadata": {
    "papermill": {
     "duration": 0.007752,
     "end_time": "2025-04-15T12:25:22.087389",
     "exception": false,
     "start_time": "2025-04-15T12:25:22.079637",
     "status": "completed"
    },
    "tags": []
   },
   "source": [
    "### 6.3 Model Training"
   ]
  },
  {
   "cell_type": "code",
   "execution_count": 15,
   "id": "03d0b357",
   "metadata": {
    "execution": {
     "iopub.execute_input": "2025-04-15T12:25:22.104558Z",
     "iopub.status.busy": "2025-04-15T12:25:22.104345Z",
     "iopub.status.idle": "2025-04-15T12:25:57.552265Z",
     "shell.execute_reply": "2025-04-15T12:25:57.551499Z"
    },
    "papermill": {
     "duration": 35.466427,
     "end_time": "2025-04-15T12:25:57.561786",
     "exception": false,
     "start_time": "2025-04-15T12:25:22.095359",
     "status": "completed"
    },
    "tags": []
   },
   "outputs": [
    {
     "data": {
      "text/html": [
       "<style>#sk-container-id-1 {color: black;background-color: white;}#sk-container-id-1 pre{padding: 0;}#sk-container-id-1 div.sk-toggleable {background-color: white;}#sk-container-id-1 label.sk-toggleable__label {cursor: pointer;display: block;width: 100%;margin-bottom: 0;padding: 0.3em;box-sizing: border-box;text-align: center;}#sk-container-id-1 label.sk-toggleable__label-arrow:before {content: \"▸\";float: left;margin-right: 0.25em;color: #696969;}#sk-container-id-1 label.sk-toggleable__label-arrow:hover:before {color: black;}#sk-container-id-1 div.sk-estimator:hover label.sk-toggleable__label-arrow:before {color: black;}#sk-container-id-1 div.sk-toggleable__content {max-height: 0;max-width: 0;overflow: hidden;text-align: left;background-color: #f0f8ff;}#sk-container-id-1 div.sk-toggleable__content pre {margin: 0.2em;color: black;border-radius: 0.25em;background-color: #f0f8ff;}#sk-container-id-1 input.sk-toggleable__control:checked~div.sk-toggleable__content {max-height: 200px;max-width: 100%;overflow: auto;}#sk-container-id-1 input.sk-toggleable__control:checked~label.sk-toggleable__label-arrow:before {content: \"▾\";}#sk-container-id-1 div.sk-estimator input.sk-toggleable__control:checked~label.sk-toggleable__label {background-color: #d4ebff;}#sk-container-id-1 div.sk-label input.sk-toggleable__control:checked~label.sk-toggleable__label {background-color: #d4ebff;}#sk-container-id-1 input.sk-hidden--visually {border: 0;clip: rect(1px 1px 1px 1px);clip: rect(1px, 1px, 1px, 1px);height: 1px;margin: -1px;overflow: hidden;padding: 0;position: absolute;width: 1px;}#sk-container-id-1 div.sk-estimator {font-family: monospace;background-color: #f0f8ff;border: 1px dotted black;border-radius: 0.25em;box-sizing: border-box;margin-bottom: 0.5em;}#sk-container-id-1 div.sk-estimator:hover {background-color: #d4ebff;}#sk-container-id-1 div.sk-parallel-item::after {content: \"\";width: 100%;border-bottom: 1px solid gray;flex-grow: 1;}#sk-container-id-1 div.sk-label:hover label.sk-toggleable__label {background-color: #d4ebff;}#sk-container-id-1 div.sk-serial::before {content: \"\";position: absolute;border-left: 1px solid gray;box-sizing: border-box;top: 0;bottom: 0;left: 50%;z-index: 0;}#sk-container-id-1 div.sk-serial {display: flex;flex-direction: column;align-items: center;background-color: white;padding-right: 0.2em;padding-left: 0.2em;position: relative;}#sk-container-id-1 div.sk-item {position: relative;z-index: 1;}#sk-container-id-1 div.sk-parallel {display: flex;align-items: stretch;justify-content: center;background-color: white;position: relative;}#sk-container-id-1 div.sk-item::before, #sk-container-id-1 div.sk-parallel-item::before {content: \"\";position: absolute;border-left: 1px solid gray;box-sizing: border-box;top: 0;bottom: 0;left: 50%;z-index: -1;}#sk-container-id-1 div.sk-parallel-item {display: flex;flex-direction: column;z-index: 1;position: relative;background-color: white;}#sk-container-id-1 div.sk-parallel-item:first-child::after {align-self: flex-end;width: 50%;}#sk-container-id-1 div.sk-parallel-item:last-child::after {align-self: flex-start;width: 50%;}#sk-container-id-1 div.sk-parallel-item:only-child::after {width: 0;}#sk-container-id-1 div.sk-dashed-wrapped {border: 1px dashed gray;margin: 0 0.4em 0.5em 0.4em;box-sizing: border-box;padding-bottom: 0.4em;background-color: white;}#sk-container-id-1 div.sk-label label {font-family: monospace;font-weight: bold;display: inline-block;line-height: 1.2em;}#sk-container-id-1 div.sk-label-container {text-align: center;}#sk-container-id-1 div.sk-container {/* jupyter's `normalize.less` sets `[hidden] { display: none; }` but bootstrap.min.css set `[hidden] { display: none !important; }` so we also need the `!important` here to be able to override the default hidden behavior on the sphinx rendered scikit-learn.org. See: https://github.com/scikit-learn/scikit-learn/issues/21755 */display: inline-block !important;position: relative;}#sk-container-id-1 div.sk-text-repr-fallback {display: none;}</style><div id=\"sk-container-id-1\" class=\"sk-top-container\"><div class=\"sk-text-repr-fallback\"><pre>RandomForestClassifier(class_weight=&#x27;balanced&#x27;)</pre><b>In a Jupyter environment, please rerun this cell to show the HTML representation or trust the notebook. <br />On GitHub, the HTML representation is unable to render, please try loading this page with nbviewer.org.</b></div><div class=\"sk-container\" hidden><div class=\"sk-item\"><div class=\"sk-estimator sk-toggleable\"><input class=\"sk-toggleable__control sk-hidden--visually\" id=\"sk-estimator-id-1\" type=\"checkbox\" checked><label for=\"sk-estimator-id-1\" class=\"sk-toggleable__label sk-toggleable__label-arrow\">RandomForestClassifier</label><div class=\"sk-toggleable__content\"><pre>RandomForestClassifier(class_weight=&#x27;balanced&#x27;)</pre></div></div></div></div></div>"
      ],
      "text/plain": [
       "RandomForestClassifier(class_weight='balanced')"
      ]
     },
     "execution_count": 15,
     "metadata": {},
     "output_type": "execute_result"
    }
   ],
   "source": [
    "# Train model\n",
    "model = RandomForestClassifier(class_weight='balanced')\n",
    "model.fit(X_train_clean, y_train_clean)"
   ]
  },
  {
   "cell_type": "markdown",
   "id": "cb9d8d83",
   "metadata": {
    "papermill": {
     "duration": 0.008059,
     "end_time": "2025-04-15T12:25:57.578675",
     "exception": false,
     "start_time": "2025-04-15T12:25:57.570616",
     "status": "completed"
    },
    "tags": []
   },
   "source": [
    "### 6.4 Model Evaluation"
   ]
  },
  {
   "cell_type": "code",
   "execution_count": 16,
   "id": "dc70895c",
   "metadata": {
    "execution": {
     "iopub.execute_input": "2025-04-15T12:25:57.597065Z",
     "iopub.status.busy": "2025-04-15T12:25:57.596819Z",
     "iopub.status.idle": "2025-04-15T12:25:58.752313Z",
     "shell.execute_reply": "2025-04-15T12:25:58.751373Z"
    },
    "papermill": {
     "duration": 1.165761,
     "end_time": "2025-04-15T12:25:58.753572",
     "exception": false,
     "start_time": "2025-04-15T12:25:57.587811",
     "status": "completed"
    },
    "tags": []
   },
   "outputs": [
    {
     "name": "stdout",
     "output_type": "stream",
     "text": [
      "Accuracy: 0.98\n",
      "Precision: 1.00\n",
      "Recall: 0.72\n"
     ]
    }
   ],
   "source": [
    "# Predict the labels for the test set\n",
    "y_pred = model.predict(X_test)\n",
    "\n",
    "# Calculate accuracy, precision, and recall\n",
    "accuracy = accuracy_score(y_test, y_pred)\n",
    "precision = precision_score(y_test, y_pred)\n",
    "recall = recall_score(y_test, y_pred)\n",
    "print(f\"Accuracy: {accuracy:.2f}\")\n",
    "print(f\"Precision: {precision:.2f}\")\n",
    "print(f\"Recall: {recall:.2f}\")"
   ]
  },
  {
   "cell_type": "markdown",
   "id": "e1e94af8",
   "metadata": {
    "papermill": {
     "duration": 0.00896,
     "end_time": "2025-04-15T12:25:58.772172",
     "exception": false,
     "start_time": "2025-04-15T12:25:58.763212",
     "status": "completed"
    },
    "tags": []
   },
   "source": [
    "**CONCLUSION:**\n",
    "\n",
    "**Accuracy: 0.98**\n",
    "\n",
    "- 98% of all predictions (both fraud and non-fraud) are correct.\n",
    "\n",
    "- In highly imbalanced datasets like the (where fraud is rare), accuracy can be misleading.\n",
    "\n",
    "**Precision: 1.00**\n",
    "\n",
    "- 100% of transactions the model flags as fraudulent are actually fraudulent.\n",
    "\n",
    "- This means zero false positives - the model never incorrectly flags legitimate transactions\n",
    "\n",
    "**Recall: 0.72**\n",
    "\n",
    "- The model correctly identifies 72% of actual fraud cases.\n",
    "\n",
    "- This means 28% of fraudulent transactions go undetected.\n",
    "\n",
    "- With further training, and more fraudulent data, the model can improve. The model can also be complemented with rule-based systems for high-value transactions. This will be done in the actual code-base.\n",
    "\n",
    "With these results, the model is ready for deployment."
   ]
  },
  {
   "cell_type": "markdown",
   "id": "d5f6a98d",
   "metadata": {
    "papermill": {
     "duration": 0.008469,
     "end_time": "2025-04-15T12:25:58.789568",
     "exception": false,
     "start_time": "2025-04-15T12:25:58.781099",
     "status": "completed"
    },
    "tags": []
   },
   "source": [
    "<br>\n",
    "\n",
    "## 7. Model Deployment\n",
    "\n",
    "In this section, the trained model will be exported for future use. This model will be deployed to Streamlit, allowing us to test and interact with it through an interface."
   ]
  },
  {
   "cell_type": "code",
   "execution_count": 17,
   "id": "94d985d0",
   "metadata": {
    "execution": {
     "iopub.execute_input": "2025-04-15T12:25:58.807366Z",
     "iopub.status.busy": "2025-04-15T12:25:58.807141Z",
     "iopub.status.idle": "2025-04-15T12:25:58.839603Z",
     "shell.execute_reply": "2025-04-15T12:25:58.838921Z"
    },
    "papermill": {
     "duration": 0.042672,
     "end_time": "2025-04-15T12:25:58.840630",
     "exception": false,
     "start_time": "2025-04-15T12:25:58.797958",
     "status": "completed"
    },
    "tags": []
   },
   "outputs": [
    {
     "data": {
      "text/plain": [
       "['fraud_detection_model.pkl']"
      ]
     },
     "execution_count": 17,
     "metadata": {},
     "output_type": "execute_result"
    }
   ],
   "source": [
    "# Save the trained model to a file\n",
    "joblib.dump(model, 'fraud_detection_model.pkl')"
   ]
  },
  {
   "cell_type": "markdown",
   "id": "b14680d1",
   "metadata": {
    "papermill": {
     "duration": 0.008304,
     "end_time": "2025-04-15T12:25:58.857277",
     "exception": false,
     "start_time": "2025-04-15T12:25:58.848973",
     "status": "completed"
    },
    "tags": []
   },
   "source": [
    "**CONCLUSION:**\n",
    "\n",
    "With the model exported, it can now be deployed using streamlit. This is done in a seperate file, called `app.py`, which can find within the project in the GitHub repository."
   ]
  }
 ],
 "metadata": {
  "kaggle": {
   "accelerator": "nvidiaTeslaT4",
   "dataSources": [
    {
     "datasetId": 2156255,
     "sourceId": 3594108,
     "sourceType": "datasetVersion"
    },
    {
     "isSourceIdPinned": true,
     "modelId": 304518,
     "modelInstanceId": 283665,
     "sourceId": 339235,
     "sourceType": "modelInstanceVersion"
    }
   ],
   "isGpuEnabled": true,
   "isInternetEnabled": true,
   "language": "python",
   "sourceType": "notebook"
  },
  "kernelspec": {
   "display_name": "Python 3",
   "language": "python",
   "name": "python3"
  },
  "language_info": {
   "codemirror_mode": {
    "name": "ipython",
    "version": 3
   },
   "file_extension": ".py",
   "mimetype": "text/x-python",
   "name": "python",
   "nbconvert_exporter": "python",
   "pygments_lexer": "ipython3",
   "version": "3.11.11"
  },
  "papermill": {
   "default_parameters": {},
   "duration": 52.172464,
   "end_time": "2025-04-15T12:25:59.382050",
   "environment_variables": {},
   "exception": null,
   "input_path": "__notebook__.ipynb",
   "output_path": "__notebook__.ipynb",
   "parameters": {},
   "start_time": "2025-04-15T12:25:07.209586",
   "version": "2.6.0"
  }
 },
 "nbformat": 4,
 "nbformat_minor": 5
}
